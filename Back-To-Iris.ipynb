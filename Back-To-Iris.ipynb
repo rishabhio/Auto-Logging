{
 "cells": [
  {
   "cell_type": "code",
   "execution_count": 1,
   "id": "f28f23a2-3d93-477f-a73a-4eed9a5dd070",
   "metadata": {},
   "outputs": [],
   "source": [
    "import mlflow \n",
    "from sklearn.datasets import load_iris \n",
    "from sklearn.model_selection import train_test_split \n",
    "from sklearn.ensemble import RandomForestClassifier \n",
    "from sklearn.metrics import accuracy_score \n",
    "import os "
   ]
  },
  {
   "cell_type": "code",
   "execution_count": 2,
   "id": "14df1800-889f-4438-82c8-2f51be701b41",
   "metadata": {},
   "outputs": [],
   "source": [
    "mlflow.set_tracking_uri(\"http://localhost:8090\") "
   ]
  },
  {
   "cell_type": "code",
   "execution_count": 3,
   "id": "a5b60790-dcc1-4da0-8dfe-c90125ed4f28",
   "metadata": {},
   "outputs": [
    {
     "name": "stderr",
     "output_type": "stream",
     "text": [
      "2024/05/03 17:19:45 INFO mlflow.tracking.fluent: Experiment with name 'Iris-Tracking' does not exist. Creating a new experiment.\n"
     ]
    },
    {
     "data": {
      "text/plain": [
       "<Experiment: artifact_location='mlflow-artifacts:/451129951168216863', creation_time=1714736985543, experiment_id='451129951168216863', last_update_time=1714736985543, lifecycle_stage='active', name='Iris-Tracking', tags={}>"
      ]
     },
     "execution_count": 3,
     "metadata": {},
     "output_type": "execute_result"
    }
   ],
   "source": [
    "mlflow.set_experiment(\"Iris-Tracking\") "
   ]
  },
  {
   "cell_type": "code",
   "execution_count": 4,
   "id": "11471a0a-adc5-449b-9b18-5c305e81228e",
   "metadata": {},
   "outputs": [],
   "source": [
    "# Load the Dataset \n",
    "iris = load_iris()\n",
    "X, y = iris.data, iris.target"
   ]
  },
  {
   "cell_type": "code",
   "execution_count": 7,
   "id": "8f78b12a-23ac-4dba-a990-e1f09db4d0e1",
   "metadata": {},
   "outputs": [],
   "source": [
    "# Set experiment name\n",
    "experiment_name = \"Iris-Tracking\""
   ]
  },
  {
   "cell_type": "code",
   "execution_count": 6,
   "id": "57db70c9-f912-4791-a088-79994c978af6",
   "metadata": {},
   "outputs": [],
   "source": [
    "# Split the data into train and test sets \n",
    "X_train, X_test, y_train, y_test = train_test_split(X, y, test_size=0.2, random_state=42)\n"
   ]
  },
  {
   "cell_type": "code",
   "execution_count": 8,
   "id": "3ccfe100-dea7-4a95-8322-8440b48c943b",
   "metadata": {},
   "outputs": [],
   "source": [
    "# Start MLflow run\n",
    "with mlflow.start_run(run_name=\"Random Forest Experiment\"):\n",
    "\n",
    "    # Log experiment name as metadata\n",
    "    mlflow.set_tag(\"experiment_name\", experiment_name)\n",
    "    \n",
    "    # Define and train the model\n",
    "    model = RandomForestClassifier(n_estimators=100, random_state=42)\n",
    "    model.fit(X_train, y_train)\n",
    "    \n",
    "    # Log model parameters\n",
    "    mlflow.log_params({\n",
    "        \"n_estimators\": 100,\n",
    "        \"random_state\": 42\n",
    "    })\n",
    "    \n",
    "    # Make predictions\n",
    "    y_pred = model.predict(X_test)\n",
    "    \n",
    "    # Calculate and log accuracy\n",
    "    accuracy = accuracy_score(y_test, y_pred)\n",
    "    mlflow.log_metric(\"accuracy\", accuracy)\n",
    "    \n",
    "    # Log artifact: Save the trained model\n",
    "    model_path = \"random_forest_model\"\n",
    "    os.makedirs(model_path, exist_ok=True)\n",
    "    model_filename = \"model.pkl\"\n",
    "    model_filepath = os.path.join(model_path, model_filename)\n",
    "    mlflow.sklearn.save_model(model, model_filepath)\n",
    "    mlflow.log_artifact(model_filepath, artifact_path=\"models\")\n"
   ]
  },
  {
   "cell_type": "code",
   "execution_count": null,
   "id": "ac263933-07b7-40a7-8bb1-e26a54cacf40",
   "metadata": {},
   "outputs": [],
   "source": []
  }
 ],
 "metadata": {
  "kernelspec": {
   "display_name": "monitoring-env",
   "language": "python",
   "name": "monitoring-env"
  },
  "language_info": {
   "codemirror_mode": {
    "name": "ipython",
    "version": 3
   },
   "file_extension": ".py",
   "mimetype": "text/x-python",
   "name": "python",
   "nbconvert_exporter": "python",
   "pygments_lexer": "ipython3",
   "version": "3.11.9"
  }
 },
 "nbformat": 4,
 "nbformat_minor": 5
}
